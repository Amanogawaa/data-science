{
 "cells": [
  {
   "cell_type": "markdown",
   "metadata": {},
   "source": [
    "## Coding Challenge"
   ]
  },
  {
   "cell_type": "code",
   "execution_count": 1,
   "metadata": {},
   "outputs": [
    {
     "name": "stdout",
     "output_type": "stream",
     "text": [
      "array('i', [9, 10, 5, 7, 5, 7, 5, 4, 3, 5])\n",
      "Average purchase items: \n",
      "6.0\n"
     ]
    }
   ],
   "source": [
    "import array as arr\n",
    "\n",
    "def display_ave():\n",
    "    print(\"Average purchase items: \")\n",
    "\n",
    "def get_ave():\n",
    "    n = len(items)\n",
    "    get_sum = sum(items)\n",
    "    mean = get_sum / n\n",
    "    m = str(mean)\n",
    "    print(m)\n",
    "\n",
    "#datasets\n",
    "online_pur = [9, 10, 5, 7, 5, 7, 5, 4, 3, 5]\n",
    "\n",
    "sample_data = arr.array('i', online_pur)\n",
    "items = sample_data[0:10]\n",
    "sample_data_list = items.tolist()\n",
    "\n",
    "print(sample_data)\n",
    "display_ave()\n",
    "get_ave()\n",
    "\n"
   ]
  }
 ],
 "metadata": {
  "kernelspec": {
   "display_name": "datascievenv",
   "language": "python",
   "name": "python3"
  },
  "language_info": {
   "codemirror_mode": {
    "name": "ipython",
    "version": 3
   },
   "file_extension": ".py",
   "mimetype": "text/x-python",
   "name": "python",
   "nbconvert_exporter": "python",
   "pygments_lexer": "ipython3",
   "version": "3.12.5"
  }
 },
 "nbformat": 4,
 "nbformat_minor": 2
}
